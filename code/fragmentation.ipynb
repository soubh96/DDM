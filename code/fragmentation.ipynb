{
 "cells": [
  {
   "cell_type": "code",
   "execution_count": 2,
   "metadata": {},
   "outputs": [
    {
     "name": "stdout",
     "output_type": "stream",
     "text": [
      "Requirement already satisfied: psycopg2 in /home/soubhik/anaconda3/lib/python3.7/site-packages (2.8.4)\n",
      "Note: you may need to restart the kernel to use updated packages.\n"
     ]
    }
   ],
   "source": [
    "%pip install psycopg2"
   ]
  },
  {
   "cell_type": "code",
   "execution_count": 3,
   "metadata": {},
   "outputs": [
    {
     "name": "stdout",
     "output_type": "stream",
     "text": [
      "Connecting to all the servers\n"
     ]
    },
    {
     "ename": "OperationalError",
     "evalue": "could not connect to server: No route to host\n\tIs the server running on host \"10.100.12.202\" and accepting\n\tTCP/IP connections on port 5432?\n",
     "output_type": "error",
     "traceback": [
      "\u001b[0;31m---------------------------------------------------------------------------\u001b[0m",
      "\u001b[0;31mOperationalError\u001b[0m                          Traceback (most recent call last)",
      "\u001b[0;32m<ipython-input-3-f4e6669e8e6e>\u001b[0m in \u001b[0;36m<module>\u001b[0;34m\u001b[0m\n\u001b[1;32m      5\u001b[0m \u001b[0;34m\u001b[0m\u001b[0m\n\u001b[1;32m      6\u001b[0m \u001b[0;31m##connecting to servers\u001b[0m\u001b[0;34m\u001b[0m\u001b[0;34m\u001b[0m\u001b[0;34m\u001b[0m\u001b[0m\n\u001b[0;32m----> 7\u001b[0;31m \u001b[0msamphat\u001b[0m \u001b[0;34m=\u001b[0m \u001b[0mpsycopg2\u001b[0m\u001b[0;34m.\u001b[0m\u001b[0mconnect\u001b[0m\u001b[0;34m(\u001b[0m\u001b[0mhost\u001b[0m\u001b[0;34m=\u001b[0m\u001b[0;34m\"10.100.12.202\"\u001b[0m\u001b[0;34m,\u001b[0m   \u001b[0mport\u001b[0m\u001b[0;34m=\u001b[0m\u001b[0;36m5432\u001b[0m\u001b[0;34m,\u001b[0m \u001b[0mdatabase\u001b[0m\u001b[0;34m=\u001b[0m\u001b[0;34m\"sam\"\u001b[0m\u001b[0;34m,\u001b[0m \u001b[0muser\u001b[0m\u001b[0;34m=\u001b[0m\u001b[0;34m\"postgres\"\u001b[0m\u001b[0;34m,\u001b[0m \u001b[0mpassword\u001b[0m\u001b[0;34m=\u001b[0m\u001b[0;34m\"postgres\"\u001b[0m\u001b[0;34m)\u001b[0m\u001b[0;34m;\u001b[0m\u001b[0;34m\u001b[0m\u001b[0;34m\u001b[0m\u001b[0m\n\u001b[0m\u001b[1;32m      8\u001b[0m \u001b[0mkushal\u001b[0m \u001b[0;34m=\u001b[0m \u001b[0mpsycopg2\u001b[0m\u001b[0;34m.\u001b[0m\u001b[0mconnect\u001b[0m\u001b[0;34m(\u001b[0m\u001b[0mhost\u001b[0m\u001b[0;34m=\u001b[0m\u001b[0;34m\"10.100.14.158\"\u001b[0m\u001b[0;34m,\u001b[0m\u001b[0mport\u001b[0m\u001b[0;34m=\u001b[0m\u001b[0;36m5432\u001b[0m\u001b[0;34m,\u001b[0m \u001b[0mdatabase\u001b[0m\u001b[0;34m=\u001b[0m\u001b[0;34m\"soubhik\"\u001b[0m\u001b[0;34m,\u001b[0m \u001b[0muser\u001b[0m\u001b[0;34m=\u001b[0m\u001b[0;34m\"postgres\"\u001b[0m\u001b[0;34m,\u001b[0m \u001b[0mpassword\u001b[0m\u001b[0;34m=\u001b[0m\u001b[0;34m\"postgres\"\u001b[0m\u001b[0;34m)\u001b[0m\u001b[0;34m;\u001b[0m\u001b[0;34m\u001b[0m\u001b[0;34m\u001b[0m\u001b[0m\n\u001b[1;32m      9\u001b[0m \u001b[0mniranjan\u001b[0m\u001b[0;34m=\u001b[0m \u001b[0mpsycopg2\u001b[0m\u001b[0;34m.\u001b[0m\u001b[0mconnect\u001b[0m\u001b[0;34m(\u001b[0m\u001b[0mhost\u001b[0m\u001b[0;34m=\u001b[0m\u001b[0;34m\"10.100.15.216\"\u001b[0m\u001b[0;34m,\u001b[0m\u001b[0mport\u001b[0m\u001b[0;34m=\u001b[0m\u001b[0;36m5432\u001b[0m\u001b[0;34m,\u001b[0m \u001b[0mdatabase\u001b[0m\u001b[0;34m=\u001b[0m\u001b[0;34m\"kushan\"\u001b[0m\u001b[0;34m,\u001b[0m \u001b[0muser\u001b[0m\u001b[0;34m=\u001b[0m\u001b[0;34m\"postgres\"\u001b[0m\u001b[0;34m,\u001b[0m \u001b[0mpassword\u001b[0m\u001b[0;34m=\u001b[0m\u001b[0;34m\"postgres\"\u001b[0m\u001b[0;34m)\u001b[0m\u001b[0;34m;\u001b[0m\u001b[0;34m\u001b[0m\u001b[0;34m\u001b[0m\u001b[0m\n",
      "\u001b[0;32m~/anaconda3/lib/python3.7/site-packages/psycopg2/__init__.py\u001b[0m in \u001b[0;36mconnect\u001b[0;34m(dsn, connection_factory, cursor_factory, **kwargs)\u001b[0m\n\u001b[1;32m    124\u001b[0m \u001b[0;34m\u001b[0m\u001b[0m\n\u001b[1;32m    125\u001b[0m     \u001b[0mdsn\u001b[0m \u001b[0;34m=\u001b[0m \u001b[0m_ext\u001b[0m\u001b[0;34m.\u001b[0m\u001b[0mmake_dsn\u001b[0m\u001b[0;34m(\u001b[0m\u001b[0mdsn\u001b[0m\u001b[0;34m,\u001b[0m \u001b[0;34m**\u001b[0m\u001b[0mkwargs\u001b[0m\u001b[0;34m)\u001b[0m\u001b[0;34m\u001b[0m\u001b[0;34m\u001b[0m\u001b[0m\n\u001b[0;32m--> 126\u001b[0;31m     \u001b[0mconn\u001b[0m \u001b[0;34m=\u001b[0m \u001b[0m_connect\u001b[0m\u001b[0;34m(\u001b[0m\u001b[0mdsn\u001b[0m\u001b[0;34m,\u001b[0m \u001b[0mconnection_factory\u001b[0m\u001b[0;34m=\u001b[0m\u001b[0mconnection_factory\u001b[0m\u001b[0;34m,\u001b[0m \u001b[0;34m**\u001b[0m\u001b[0mkwasync\u001b[0m\u001b[0;34m)\u001b[0m\u001b[0;34m\u001b[0m\u001b[0;34m\u001b[0m\u001b[0m\n\u001b[0m\u001b[1;32m    127\u001b[0m     \u001b[0;32mif\u001b[0m \u001b[0mcursor_factory\u001b[0m \u001b[0;32mis\u001b[0m \u001b[0;32mnot\u001b[0m \u001b[0;32mNone\u001b[0m\u001b[0;34m:\u001b[0m\u001b[0;34m\u001b[0m\u001b[0;34m\u001b[0m\u001b[0m\n\u001b[1;32m    128\u001b[0m         \u001b[0mconn\u001b[0m\u001b[0;34m.\u001b[0m\u001b[0mcursor_factory\u001b[0m \u001b[0;34m=\u001b[0m \u001b[0mcursor_factory\u001b[0m\u001b[0;34m\u001b[0m\u001b[0;34m\u001b[0m\u001b[0m\n",
      "\u001b[0;31mOperationalError\u001b[0m: could not connect to server: No route to host\n\tIs the server running on host \"10.100.12.202\" and accepting\n\tTCP/IP connections on port 5432?\n"
     ]
    }
   ],
   "source": [
    "import csv\n",
    "import psycopg2\n",
    "\n",
    "print(\"Connecting to all the servers\")\n",
    "\n",
    "##connecting to servers \n",
    "samphat = psycopg2.connect(host=\"10.50.53.31\",   port=5432, database=\"sammy\", user=\"postgres\", password=\"postgres\");\n",
    "kushal = psycopg2.connect(host=\"10.100.14.158\",port=5432, database=\"soubhik\", user=\"postgres\", password=\"postgres\");\n",
    "niranjan= psycopg2.connect(host=\"10.100.15.216\",port=5432, database=\"kushan\", user=\"postgres\", password=\"postgres\");\n",
    "\n",
    "\n",
    "print(\"All servers are connected\")\n",
    "\n",
    "\n",
    "##making cursors  \n",
    "cur_samphat = samphat.cursor()\n",
    "cur_kushal = kushal.cursor()\n",
    "cur_niranjan = niranjan.cursor()\n",
    "\n",
    "\n",
    "#drop tables\n",
    "cur_samphat.execute(\"DROP TABLE Echo1;\");\n",
    "cur_kushal.execute(\"DROP TABLE Echo2;\");\n",
    "cur_niranjan.execute(\"DROP TABLE Echo3;\");\n",
    "\n",
    "\n",
    "\n",
    "#create tables  Echo1 Echo2 Echo3 in samphat , kushal and niranjan server \n",
    "cur_samphat.execute(\"CREATE TABLE Echo1 (survival real,Still_alive integer,Age_at_heart_attack real ,Pericardial_effusion integer ,Fractional_shortening real ,epss real ,lvdd  real,Wall_motion_score real ,Wall_motion_index real ,mult real ,Fulll_name varchar(50) ,grp integer ,Alive_at_1 integer);\");\n",
    "cur_kushal.execute(\"CREATE TABLE Echo2 (survival real,Still_alive integer,Age_at_heart_attack real ,Pericardial_effusion integer ,Fractional_shortening real ,epss real ,lvdd real,Wall_motion_score real ,Wall_motion_index real ,mult real ,Fulll_name varchar(50) ,grp integer ,Alive_at_1 integer);\");\n",
    "cur_niranjan.execute(\"CREATE TABLE Echo3 (survival real,Still_alive integer,Age_at_heart_attack real ,Pericardial_effusion integer ,Fractional_shortening real ,epss real ,lvdd real ,Wall_motion_score real ,Wall_motion_index real ,mult real ,Fulll_name varchar(50) ,grp integer ,Alive_at_1 integer);\");\n",
    "\n",
    "\n",
    "#Finding no of tuples in table \n",
    "length=1\n",
    "with open('echo.csv','r') as f:\n",
    "    reader = csv.reader(f) \n",
    "   \n",
    "    for row in reader:\n",
    "        length=length+1\n",
    "\n",
    "\n",
    "\n",
    "\n",
    "# inserting the records in differnet servers \n",
    "with open('echo.csv','r') as f:\n",
    "    reader = csv.reader(f) \n",
    "    count=1\n",
    "    for row in reader:\n",
    "        a=row[0]\n",
    "        b=row[1]                \n",
    "        c= row[2]\n",
    "        d=row[3]\n",
    "        e=row[4]\n",
    "        f=row[5]\n",
    "        g=row[6]\n",
    "        h=row[7]\n",
    "        i=row[8]\n",
    "        j=row[9]\n",
    "        k=row[10]\n",
    "        l=row[11]\n",
    "        m=row[12]\n",
    "\n",
    "        if float(a)<=20:\n",
    "                       \n",
    "                cur_samphat.execute(\"INSERT INTO Echo1 VALUES (%s, %s, %s, %s,%s,%s,%s,%s,%s,%s,%s,%s,%s)\", (a,b,c,d,e,f,g,h,i,j,k,l,m))\n",
    "\n",
    "        elif float(a)>=20 and float(a) < 40:\n",
    "                cur_kushal.execute(\"INSERT INTO Echo2 VALUES (%s, %s, %s, %s,%s,%s,%s,%s,%s,%s,%s,%s,%s)\", (a,b,c,d,e,f,g,h,i,j,k,l,m))\n",
    "                \n",
    "        elif float(a)>= 40:\n",
    "                cur_niranjan.execute(\"INSERT INTO Echo3 VALUES (%s, %s, %s, %s,%s,%s,%s,%s,%s,%s,%s,%s,%s)\", (a,b,c,d,e,f,g,h,i,j,k,l,m))\n",
    "\n",
    "\n",
    "\n",
    "\n",
    "\n",
    "        \n",
    "        count = count + 1    \n",
    "\n",
    "\n",
    "## closing the curser \n",
    "cur_samphat.close()\n",
    "cur_kushal.close()\n",
    "cur_niranjan.close()\n",
    "\n",
    "\n",
    "#commiting the transaction \n",
    "samphat.commit()\n",
    "kushal.commit()\n",
    "niranjan.commit()\n",
    "\n"
   ]
  },
  {
   "cell_type": "code",
   "execution_count": null,
   "metadata": {},
   "outputs": [],
   "source": []
  },
  {
   "cell_type": "code",
   "execution_count": null,
   "metadata": {},
   "outputs": [],
   "source": []
  }
 ],
 "metadata": {
  "kernelspec": {
   "display_name": "Python 3",
   "language": "python",
   "name": "python3"
  },
  "language_info": {
   "codemirror_mode": {
    "name": "ipython",
    "version": 3
   },
   "file_extension": ".py",
   "mimetype": "text/x-python",
   "name": "python",
   "nbconvert_exporter": "python",
   "pygments_lexer": "ipython3",
   "version": "3.7.4"
  }
 },
 "nbformat": 4,
 "nbformat_minor": 2
}
